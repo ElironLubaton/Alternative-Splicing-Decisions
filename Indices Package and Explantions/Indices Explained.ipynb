{
 "cells": [
  {
   "cell_type": "markdown",
   "id": "9e15b017",
   "metadata": {},
   "source": [
    "# INDICES EXPLAINED"
   ]
  },
  {
   "cell_type": "code",
   "execution_count": 1,
   "id": "1bc997d7",
   "metadata": {},
   "outputs": [],
   "source": [
    "import numpy as np\n",
    "import math\n",
    "import random"
   ]
  },
  {
   "cell_type": "markdown",
   "id": "f43d544e",
   "metadata": {},
   "source": [
    "### Parameters\n",
    "\n",
    "$\\textbf{'sequence'}$ - it can refer to all possible intron start site / all possible intron end site / only the actual splice sites with readings >=1 (for now)  \n",
    "\n",
    "$\\textbf{'possible_ss'}$ - stands for all possible intron start\\end splice sites.  \n",
    "\n",
    "$\\textbf{'total_reads'}$ - stands for total readings from all splice sites.  \n",
    "\n",
    "$\\textbf{'total_ss'}$ - stand for only the actual splice sites with readings >=1.  "
   ]
  },
  {
   "cell_type": "markdown",
   "id": "0d989a58",
   "metadata": {},
   "source": [
    "# Diversity Indices"
   ]
  },
  {
   "cell_type": "markdown",
   "id": "f4f9714d",
   "metadata": {},
   "source": [
    "### Shanon-Wiener Diversity Index\n",
    "\n",
    "This index is used for finding the diversity of splice reads in a given sequence. $\\\\$\n",
    "described by the formula:\n",
    "$H=-\\sum_{i=1}^{S}p_i\\cdot\\ln(p_i)$\n",
    "\n",
    "$p_i$ - proportion of reads that splice in point 'i' divided by the total reads.\n",
    "$\\newline$\n",
    "\n",
    "1 - The values mostly range from 1.5 to 3.5, but the the absoulte range is 0-5.  \n",
    "2 - a certain splice site that gets many reads will greatly influenced the index's value. \n",
    "$\\newline$\n",
    "\n",
    "\n",
    "**Shannon's index computes the total readings only. The index gives relativly low values when the sample size is small - meaning the number of potential splice sites doesn't affect the index's value. We need to consider it, because there are at most 5 isoforms of each gene. $\\newline$"
   ]
  },
  {
   "cell_type": "code",
   "execution_count": 3,
   "id": "eca8239a",
   "metadata": {},
   "outputs": [],
   "source": [
    "def shannon_diversity (sequence, possible_ss, total_reads, total_ss):\n",
    "    \n",
    "    index_value = 0\n",
    "    \n",
    "    for splice_site in sequence:\n",
    "        x = splice_site/total_reads\n",
    "        if x!=0:\n",
    "            index_value += (x)*(math.log(x))\n",
    "    \n",
    "    return round(-1*index_value, 3)\n",
    "\n"
   ]
  },
  {
   "cell_type": "markdown",
   "id": "b49ac751",
   "metadata": {},
   "source": [
    "### Brillouin D Diversity Index\n",
    "\n",
    "This index is used to find the diversty of $\\textbf{many}$ sequences (in contrast of Shannon's, who works for one sequence). $\\\\$\n",
    "described by the formula:\n",
    "$HB=\\frac{\\ln(N!)-\\sum_{i=1}^{k}\\ln(\\left(n_i !)\\right)}{N}$\n",
    "$\\newline$\n",
    "\n",
    "\n",
    "(I'm not sure it's correct) - if we use this index for a single sequence, then:  \n",
    "N - total number of reads in a given sequence  \n",
    "$n_i$ - number of reads that refer to the splice site  \n",
    "i - certain splice site (intron start or intron end)  \n",
    "k - number of splice sites that read refer to (aka - non-0's)  \n",
    "\n",
    "\n",
    "\n",
    "I splited the calcaulations in the code for easier modification afterwards. Each part of the calcaulation will be marked with a number.\n",
    "$\\newline$\n",
    "1 - $\\ln\\left(N!\\right)$  \n",
    "2 - $\\sum_{i=1}^{k}\\ln\\left(n_i!)\\right)$  \n",
    "3 - index_value / N "
   ]
  },
  {
   "cell_type": "code",
   "execution_count": 5,
   "id": "a41cfdfe",
   "metadata": {},
   "outputs": [],
   "source": [
    "def brillouin_d_diversity (sequence, possible_ss, total_reads, total_ss):\n",
    "    \n",
    "    index_value=0\n",
    "    \n",
    "    #calcaulation 1\n",
    "    index_value = math.log(np.math.factorial(total_reads))\n",
    "    \n",
    "    #calcaulation 2\n",
    "    for splice_site in sequence:\n",
    "        if splice_site!=0:\n",
    "            index_value -= math.log(math.factorial(splice_site))\n",
    "    \n",
    "    return round(index_value/total_reads, 3)\n"
   ]
  },
  {
   "cell_type": "markdown",
   "id": "87ca8845",
   "metadata": {},
   "source": [
    "### McIntosh Dominance Index\n",
    "This index is used for finding the diversity of splice reads in a given sequence.\n",
    "described by the formula: $\\newline$\n",
    "$D = \\frac{N-\\sqrt{\\sum_{i=1}^{S}(n_i)^2}}{N-\\sqrt{N}}$  \n",
    "\n",
    "N - total number of reads in a given sequence  \n",
    "$n_i$ - number of reads in the i'th splice site  \n",
    "S - number of splice sites  \n",
    "  \n",
    "\n",
    "I splited the calcaulations in the code for easier modification afterwards. Each part of the calcaulation will be marked with a number.  \n",
    "\n",
    "1 - $\\sum_{i=1}^{S}(n_i)^2$  \n",
    "2 - $\\sqrt{\\sum_{i=1}^{S}(n_i)^2}$  \n",
    "3 - $\\frac{index value}{N-\\sqrt{N}}$"
   ]
  },
  {
   "cell_type": "code",
   "execution_count": 6,
   "id": "fc6aa086",
   "metadata": {},
   "outputs": [],
   "source": [
    "def mcintosh_diversity (sequence, possible_ss, total_reads, total_ss):\n",
    "    \n",
    "    counter=0\n",
    "    index_value = total_reads\n",
    "    \n",
    "    #calculation 1\n",
    "    for splice_site in sequence:\n",
    "        counter += math.pow(splice_site, 2)\n",
    "    \n",
    "    #calculation 2\n",
    "    index_value -= math.pow(counter, 0.5)\n",
    "    \n",
    "    #calculation 3\n",
    "    return round(index_value / (total_reads - math.pow(total_reads,0.5)), 3)"
   ]
  },
  {
   "cell_type": "code",
   "execution_count": null,
   "id": "77da7d41",
   "metadata": {},
   "outputs": [],
   "source": []
  },
  {
   "cell_type": "markdown",
   "id": "40335ab2",
   "metadata": {},
   "source": [
    "### Simpson's Diversity Index\n",
    "\n",
    "This index is used for finding the diversity of splice reads in a given sequence.\n",
    "described by the formula: $\\newline$\n",
    "$D = 1 - \\frac{\\sum_{i=1}^{k}n_i\\cdot(n_\\left(i\\right)-1)}{N\\cdot\\left(N-1\\right)}$\n",
    "$\\newline$\n",
    "\n",
    "N - total number of reads in a given sequence  \n",
    "$n_i$ - number of reads in the i'th splice site  \n",
    "k - number of splice sites  \n",
    "\n",
    "$\\newline$\n",
    "\n",
    "-The index's value ranges from 0 to 1. The higher the value the higher the diversity.\n",
    "\n",
    "$\\newline$\n",
    "\n",
    "I splited the calcaulations in the code for easier modification afterwards. Each part of the calcaulation will be marked with a number.  \n",
    "1 - $\\sum_{i=1}^{k}n_i\\cdot(n_i - 1)$  \n",
    "2 - $N\\cdot\\left(N-1\\right)$  "
   ]
  },
  {
   "cell_type": "code",
   "execution_count": 7,
   "id": "80c76c2c",
   "metadata": {},
   "outputs": [],
   "source": [
    "def simspon_diversity (sequence, possible_ss, total_reads, total_ss):\n",
    "    \n",
    "    index_value = 0\n",
    "    \n",
    "    #calcaulation 1\n",
    "    for splice_site in sequence:\n",
    "        index_value += splice_site*(splice_site-1)\n",
    "    \n",
    "    #calcaulation 2\n",
    "    index_value /= total_reads*(total_reads-1)\n",
    "    \n",
    "    return round(1 - index_value, 3)\n"
   ]
  },
  {
   "cell_type": "markdown",
   "id": "f927ae7f",
   "metadata": {},
   "source": [
    "# Dominance Indices"
   ]
  },
  {
   "cell_type": "markdown",
   "id": "b1529b48",
   "metadata": {},
   "source": [
    "### Simpson's Dominance Index\n",
    "\n",
    "This index is used for measuring the dominance of single splices sites in a given sequence. $\\newline$\n",
    "described by the formula:\n",
    "$D = 1 - \\sum_{i=1}^{k}p_i^2$\n",
    "\n",
    "$\\newline$\n",
    "\n",
    "$p_i$ - number of reads in the i'th splice site divided by the total reads from all splice sites. $\\newline$\n",
    "\n",
    "-The index's value ranges from 0 to 1. The higher the value the higher the dominance."
   ]
  },
  {
   "cell_type": "code",
   "execution_count": 8,
   "id": "976b5447",
   "metadata": {},
   "outputs": [],
   "source": [
    "def simpson_dominance (sequence, possible_ss, total_reads, total_ss):\n",
    "    \n",
    "    index_value = 0\n",
    "    \n",
    "    for splice_site in sequence:\n",
    "        index_value += math.pow(splice_site/total_reads,2)\n",
    "    \n",
    "    return round(1 - index_value, 3)\n",
    "\n"
   ]
  },
  {
   "cell_type": "markdown",
   "id": "171339d1",
   "metadata": {},
   "source": [
    "# Evenness Indices"
   ]
  },
  {
   "cell_type": "markdown",
   "id": "e20c6f79",
   "metadata": {},
   "source": [
    "### Shanon-Wiener Eveness Index\n",
    "\n",
    "This index is used for finding the evenness of splice reads in a given sequence. $\\\\$\n",
    "described by the formula:\n",
    "$H=\\frac{-\\sum_{i=1}^{S}p_i\\cdot\\ln(p_i)}{ln(length)}$\n",
    "\n"
   ]
  },
  {
   "cell_type": "code",
   "execution_count": null,
   "id": "8c2df6e6",
   "metadata": {},
   "outputs": [],
   "source": [
    "def shannon_evenness (sequence, possible_ss, total_reads, total_ss):\n",
    "    return (shannon_diversity(sequence, possible_ss, total_reads, total_ss)) / math.log(possible_ss)"
   ]
  },
  {
   "cell_type": "markdown",
   "id": "6817b6f1",
   "metadata": {},
   "source": [
    "### Simpson's Evenness Index\n",
    "This index is base on simpson's dominance index, used for determining how close in number each splice site's readings are. $\\newline$\n",
    "Described by the formula:\n",
    "$E = \\frac{1/D}{S}$\n",
    "\n",
    "$\\newline$\n",
    "D – Simpson's dominance index  \n",
    "S – number of splice sites\n"
   ]
  },
  {
   "cell_type": "code",
   "execution_count": 11,
   "id": "b3be6b6b",
   "metadata": {},
   "outputs": [],
   "source": [
    "def simpson_evenness (sequence, possible_ss, total_reads, total_ss):\n",
    "        \n",
    "    return round ((1/simpson_dominance(sequence, possible_ss, total_reads, total_ss)) / possible_ss, 3)"
   ]
  },
  {
   "cell_type": "markdown",
   "id": "fb8872e9",
   "metadata": {},
   "source": [
    "### Camargo's Evenness Index\n",
    "\n",
    "This index is used for determining how close in number each splice site's readings are. $\\newline$\n",
    "Described by the formula:\n",
    "$E = 1 - \\frac{(\\sum_{i=1}^{S}\\sum_{j=i+1}^{S}({|p_i - p_j|}))}{S}$\n",
    "\n",
    "$\\newline$\n",
    "\n",
    "$p_i$ - number of reads in the i'th splice site divided by the total reads from all splice sites.  \n",
    "$p_j$ - number of reads in the j'th splice site divided by the total reads from all splice sites.  \n",
    "S - number of splice sites (possilbe or actual).  \n",
    "\n",
    "-The index's value ranges from 0 to 1, the higher the value the highter evenness\n",
    "\n",
    "$\\newline$\n",
    "A way to do double summation using itertools library\n",
    "https://stackoverflow.com/questions/49196758/vectorizing-a-double-sum-with-j-i1"
   ]
  },
  {
   "cell_type": "code",
   "execution_count": 12,
   "id": "5941127a",
   "metadata": {},
   "outputs": [],
   "source": [
    "def camargo_evenness (sequence, possible_ss, total_reads, total_ss):\n",
    "    \n",
    "    index_value = 0\n",
    "\n",
    "    \n",
    "    for i, _ in enumerate(sequence):        \n",
    "        for j in range(i+1, len(sequence)):\n",
    "            index_value += abs((sequence[i]/total_reads)-(sequence[j]/total_reads))\n",
    "\n",
    "    return round(1 - index_value/possible_ss, 3)\n",
    "\n",
    "\n",
    "    #I think I can use 'itertools' library for the double summation for a faster run, I've put a link in the explantion aboue.\n",
    "    #I'll deal with it in the future when I'll have more time\n"
   ]
  },
  {
   "cell_type": "code",
   "execution_count": null,
   "id": "404d566e",
   "metadata": {},
   "outputs": [],
   "source": []
  },
  {
   "cell_type": "code",
   "execution_count": 13,
   "id": "ecf34182",
   "metadata": {},
   "outputs": [],
   "source": [
    "def percentage (sequence, percentage):\n",
    "    \n",
    "    #The first line computes the percentage of the total sum\n",
    "    p = sum(sequence) * (percentage/100)\n",
    "    \n",
    "    \n",
    "    #checking how many values in the array are > 0\n",
    "    num_of_zeros = 0\n",
    "    for isoform in sequence:\n",
    "        if not isoform:\n",
    "            num_of_zeros += 1\n",
    "    \n",
    "    return p / num_of_zeros"
   ]
  },
  {
   "cell_type": "code",
   "execution_count": null,
   "id": "282947c3",
   "metadata": {},
   "outputs": [],
   "source": [
    "#MAIN FUNCTION\n",
    "\n",
    "indices_list_div = []\n",
    "indices_list_eve = []\n",
    "\n",
    "#creating random sequences (using the randomlist() function I created in the Helper Functions section above)\n",
    "#and computing their indices.\n",
    "for i in range (1,9000):\n",
    "    randlist = randomlist1()\n",
    "    indices_list_div.append((randlist[0], randlist[1],\n",
    "                                 ind.indices(randlist[0], 'shannonDiv'),\n",
    "                                ind.indices(randlist[0], 'simsponDiv'),\n",
    "                                 ind.indices(randlist[0], 'mcintoshDiv')))\n",
    "    \n",
    "    indices_list_eve.append((randlist[0], randlist[1],\n",
    "                             ind.indices(randlist[0], 'simpsonEve'),\n",
    "                             ind.indices(randlist[0], 'camargoEve'),))\n",
    "    \n",
    "\n",
    "#creating dataframe\n",
    "indices_list_div = pd.DataFrame(indices_list_div, columns =['Sequence', 'Isoforms','shannonDiv', 'simpsonDiv', 'mcintoshDiv'])\n",
    "indices_list_eve = pd.DataFrame(indices_list_eve, columns = ['Sequence', 'Isoforms','simpsonEve','camargoEve'])\n",
    "\n",
    "#exporting the lists using pandas\n",
    "indices_list_div.to_csv(\"C:/Users/eliro/Desktop/Python/Biology Project/comparisons/raw/comparison_div.csv\")\n",
    "indices_list_eve.to_csv(\"C:/Users/eliro/Desktop/Python/Biology Project/comparisons/raw/comparison_eve.csv\")\n",
    "\n",
    "\n",
    "\n",
    "#HOW DO I APPEND ROWS TO A DATA FRAME??\n",
    "#I think i can use the loc method - I should check this link - https://vitalflux.com/pandas-dataframe-how-to-add-rows-columns/#:~:text=You%20can%20use%20Dataframe.,then%20you%20can%20use%20Dataframe.\n",
    "    \n"
   ]
  }
 ],
 "metadata": {
  "kernelspec": {
   "display_name": "Python 3 (ipykernel)",
   "language": "python",
   "name": "python3"
  },
  "language_info": {
   "codemirror_mode": {
    "name": "ipython",
    "version": 3
   },
   "file_extension": ".py",
   "mimetype": "text/x-python",
   "name": "python",
   "nbconvert_exporter": "python",
   "pygments_lexer": "ipython3",
   "version": "3.10.10"
  }
 },
 "nbformat": 4,
 "nbformat_minor": 5
}
